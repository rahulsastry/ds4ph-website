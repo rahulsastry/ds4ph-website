{
 "cells": [
  {
   "attachments": {},
   "cell_type": "markdown",
   "metadata": {},
   "source": [
    "# Data Science for Public Health: PS4 P2 Website\n",
    "\n",
    "Author: Rahul Sastry\n",
    "\n",
    "## Figure Output for PS4P1\n",
    "\n",
    "![figure](hw_p1_sankey.png)\n",
    "\n",
    "## Figure Output for PS4P4\n",
    "\n",
    "![p1](p4plot1.png)\n",
    "![p2](p4plot2.png)\n",
    "![p3](p4plot3.png)"
   ]
  }
 ],
 "metadata": {
  "kernelspec": {
   "display_name": "base",
   "language": "python",
   "name": "python3"
  },
  "language_info": {
   "name": "python",
   "version": "3.9.16"
  },
  "orig_nbformat": 4,
  "vscode": {
   "interpreter": {
    "hash": "b4ff08fef9982690d6ee8a04378ac9cf6dd61a554303897a8b9d3dde3a4eb03b"
   }
  }
 },
 "nbformat": 4,
 "nbformat_minor": 2
}
